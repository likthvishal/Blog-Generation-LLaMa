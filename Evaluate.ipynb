{
  "nbformat": 4,
  "nbformat_minor": 0,
  "metadata": {
    "colab": {
      "provenance": []
    },
    "kernelspec": {
      "name": "python3",
      "display_name": "Python 3"
    },
    "language_info": {
      "name": "python"
    }
  },
  "cells": [
    {
      "cell_type": "code",
      "execution_count": null,
      "metadata": {
        "id": "rzN4mkk_ybqe"
      },
      "outputs": [],
      "source": [
        "import time\n",
        "from transformers import AutoModelForCausalLM, AutoTokenizer\n",
        "from sklearn.metrics import accuracy_score, precision_score, recall_score\n",
        "\n",
        "# Load the fine-tuned model and tokenizer\n",
        "tokenizer = AutoTokenizer.from_pretrained('llama_blog_generator')\n",
        "model = AutoModelForCausalLM.from_pretrained('llama_blog_generator')\n",
        "\n",
        "# Mock evaluation dataset\n",
        "evaluation_texts = [\n",
        "    \"How AI is transforming healthcare.\",\n",
        "    \"The future of autonomous vehicles.\",\n",
        "    \"Latest trends in blockchain technology.\",\n",
        "]\n",
        "\n",
        "def evaluate_content_relevance(generated_texts, reference_texts):\n",
        "    # This is a mockup relevance evaluation (in practice, you'd use a human rating system or automated method)\n",
        "    relevant_count = sum([1 for gen, ref in zip(generated_texts, reference_texts) if ref.lower() in gen.lower()])\n",
        "    relevance_score = (relevant_count / len(reference_texts)) * 100\n",
        "    return relevance_score\n",
        "\n",
        "def measure_response_time(prompt):\n",
        "    start_time = time.time()\n",
        "\n",
        "    inputs = tokenizer(prompt, return_tensors=\"pt\")\n",
        "    model.generate(inputs['input_ids'], max_length=512)\n",
        "\n",
        "    end_time = time.time()\n",
        "    return end_time - start_time\n",
        "\n",
        "def run_evaluation():\n",
        "    reference_texts = evaluation_texts\n",
        "    generated_texts = []\n",
        "\n",
        "    # Measure relevance\n",
        "    for text in evaluation_texts:\n",
        "        prompt = f\"Write a blog post about {text}.\"\n",
        "        inputs = tokenizer(prompt, return_tensors=\"pt\")\n",
        "        output = model.generate(inputs['input_ids'], max_length=512, num_beams=5, early_stopping=True)\n",
        "        generated_text = tokenizer.decode(output[0], skip_special_tokens=True)\n",
        "        generated_texts.append(generated_text)\n",
        "\n",
        "    relevance_score = evaluate_content_relevance(generated_texts, reference_texts)\n",
        "    print(f\"Content Relevance: {relevance_score}%\")\n",
        "\n",
        "    # Measure response time\n",
        "    avg_response_time = sum([measure_response_time(f\"Write a blog post about {text}.\") for text in evaluation_texts]) / len(evaluation_texts)\n",
        "    print(f\"Average Response Time: {avg_response_time:.2f} seconds\")\n",
        "\n",
        "if __name__ == \"__main__\":\n",
        "    run_evaluation()\n"
      ]
    }
  ]
}