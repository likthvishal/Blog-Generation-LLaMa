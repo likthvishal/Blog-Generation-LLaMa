{
  "nbformat": 4,
  "nbformat_minor": 0,
  "metadata": {
    "colab": {
      "provenance": []
    },
    "kernelspec": {
      "name": "python3",
      "display_name": "Python 3"
    },
    "language_info": {
      "name": "python"
    }
  },
  "cells": [
    {
      "cell_type": "code",
      "execution_count": null,
      "metadata": {
        "id": "rzN4mkk_ybqe"
      },
      "outputs": [],
      "source": [
        "import torch\n",
        "from transformers import AutoModelForCausalLM, AutoTokenizer\n",
        "\n",
        "# Load the fine-tuned model and tokenizer\n",
        "tokenizer = AutoTokenizer.from_pretrained('llama_blog_generator')\n",
        "model = AutoModelForCausalLM.from_pretrained('llama_blog_generator')\n",
        "\n",
        "def generate_blog(topic, style, max_length=512):\n",
        "    prompt = f\"Write a blog post about {topic} in a {style} style.\"\n",
        "\n",
        "    inputs = tokenizer(prompt, return_tensors=\"pt\")\n",
        "    output = model.generate(\n",
        "        inputs['input_ids'],\n",
        "        max_length=max_length,\n",
        "        num_beams=5,\n",
        "        early_stopping=True\n",
        "    )\n",
        "\n",
        "    blog_post = tokenizer.decode(output[0], skip_special_tokens=True)\n",
        "    return blog_post\n",
        "\n",
        "if __name__ == \"__main__\":\n",
        "    topic = input(\"Enter blog topic: \")\n",
        "    style = input(\"Enter blog style (e.g., informative, casual): \")\n",
        "\n",
        "    blog_post = generate_blog(topic, style)\n",
        "    print(\"\\nGenerated Blog Post:\\n\")\n",
        "    print(blog_post)\n"
      ]
    }
  ]
}